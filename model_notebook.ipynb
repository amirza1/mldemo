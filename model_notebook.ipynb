import numpy as np
import pandas as pd
from sklearn import datasets
from sklearn.model_selection import train_test_split
from sklearn.metrics import roc_curve, auc
import matplotlib.pyplot as plt

# Load Iris data
iris = datasets.load_iris()
X = iris.data
y = iris.target

# For binary classification, consider only two classes
X = X[y != 2] 
y = y[y != 2]

# Split into training and testing sets
X_train, X_test, y_train, y_test = train_test_split(X, y, test_size=0.2, random_state=42)

# Import and initialize your models (adjust imports as needed)
from models.logistic_regression import LogisticRegressionModel
from models.naive_bayes import NaiveBayesModel
from models.random_forest import RandomForestModel

models = {
    'Logistic Regression': LogisticRegressionModel(),
    'Naive Bayes': NaiveBayesModel(),
    'Random Forest': RandomForestModel()
}

# Plot ROC curves
plt.figure(figsize=(10, 8))

for name, model in models.items():
    model.fit(X_train, y_train) 
    y_proba = model.predict_proba(X_test)[:, 1] # Probability for positive class
    fpr, tpr, thresholds = roc_curve(y_test, y_proba)
    roc_auc = auc(fpr, tpr)
    plt.plot(fpr, tpr, label=f'{name} (AUC = {roc_auc:.2f})')

plt.plot([0, 1], [0, 1], 'k--')  # Random guessing line
plt.xlim([0.0, 1.0])
plt.ylim([0.0, 1.05])
plt.xlabel('False Positive Rate')
plt.ylabel('True Positive Rate')
plt.title('Receiver Operating Characteristic')
plt.legend(loc="lower right")
plt.show()

